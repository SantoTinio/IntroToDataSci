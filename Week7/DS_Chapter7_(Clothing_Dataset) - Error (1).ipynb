{
 "cells": [
  {
   "cell_type": "code",
   "execution_count": 2,
   "metadata": {},
   "outputs": [],
   "source": [
    "import pandas as pd  \n",
    "from sklearn.tree import DecisionTreeClassifier  "
   ]
  },
  {
   "cell_type": "code",
   "execution_count": 3,
   "metadata": {},
   "outputs": [],
   "source": [
    "clothing_train = pd.read_csv(\"clothing_data_driven_training (1)\", sep=\"\\t\") \n",
    "clothing_test = pd.read_csv(\"clothing_data_driven_test\", sep=\"\\t\") \n",
    "\n",
    "y = clothing_train[['Response']]\n",
    "X = clothing_train[['Days since Purchase', 'Number of Purchase Visits', 'Sales per Visit']]"
   ]
  },
  {
   "cell_type": "markdown",
   "metadata": {
    "id": "oOY8bZuAn5zm"
   },
   "source": [
    "Upon completing the code and data sets that were posted under this week, continue using the below codes to construct the simplified data‐driven cost matrix as follows:  \n",
    "a.\tObtain the mean of the Sales per Visit variable from the training data set and set the negative of that value to be the “cost” of a true positive. Let the false positive cost equal $10.  "
   ]
  },
  {
   "cell_type": "code",
   "execution_count": 6,
   "metadata": {
    "colab": {
     "base_uri": "https://localhost:8080/"
    },
    "id": "NR_I7fjnlUdY",
    "outputId": "f47c4fc3-52ec-4235-a988-9f7166e5a7aa"
   },
   "outputs": [
    {
     "data": {
      "text/plain": [
       "113.58"
      ]
     },
     "execution_count": 6,
     "metadata": {},
     "output_type": "execute_result"
    }
   ],
   "source": [
    "# a  \n",
    "sales_mean = round(clothing_train['Sales per Visit'].mean(),2)  \n",
    "tp_cost = sales_mean - (sales_mean*2)  \n",
    "fp_cost = 10\n",
    "sales_mean\n"
   ]
  },
  {
   "cell_type": "markdown",
   "metadata": {
    "id": "PGmW7BdXnzro"
   },
   "source": [
    "b.\tConstruct the appropriate cost matrix, and simplify it, to obtain the simplified data‐driven cost matrix. "
   ]
  },
  {
   "cell_type": "code",
   "execution_count": 16,
   "metadata": {
    "id": "J78BbzOJlUfn"
   },
   "outputs": [
    {
     "data": {
      "text/html": [
       "<div>\n",
       "<style scoped>\n",
       "    .dataframe tbody tr th:only-of-type {\n",
       "        vertical-align: middle;\n",
       "    }\n",
       "\n",
       "    .dataframe tbody tr th {\n",
       "        vertical-align: top;\n",
       "    }\n",
       "\n",
       "    .dataframe thead th {\n",
       "        text-align: right;\n",
       "    }\n",
       "</style>\n",
       "<table border=\"1\" class=\"dataframe\">\n",
       "  <thead>\n",
       "    <tr style=\"text-align: right;\">\n",
       "      <th></th>\n",
       "      <th>0</th>\n",
       "      <th>1</th>\n",
       "    </tr>\n",
       "  </thead>\n",
       "  <tbody>\n",
       "    <tr>\n",
       "      <th>0</th>\n",
       "      <td>0.000</td>\n",
       "      <td>1.0</td>\n",
       "    </tr>\n",
       "    <tr>\n",
       "      <th>1</th>\n",
       "      <td>11.358</td>\n",
       "      <td>0.0</td>\n",
       "    </tr>\n",
       "  </tbody>\n",
       "</table>\n",
       "</div>"
      ],
      "text/plain": [
       "        0    1\n",
       "0   0.000  1.0\n",
       "1  11.358  0.0"
      ]
     },
     "execution_count": 16,
     "metadata": {},
     "output_type": "execute_result"
    }
   ],
   "source": [
    "# b  \n",
    "data = {'0': [0, 0],  \n",
    "        '1': [fp_cost, tp_cost ]  \n",
    "        }  \n",
    "  \n",
    "cost_matrix = pd.DataFrame (data, columns = ['0','1'])  \n",
    "\n",
    "cost_matrix_adj = cost_matrix / fp_cost  \n",
    "\n",
    "  \n",
    "cost_matrix_adj.iloc[1,0] = cost_matrix_adj.iloc[1,1] - (cost_matrix_adj.iloc[1,1]*2)  \n",
    "cost_matrix_adj.iloc[1,1] = 0  \n",
    "cost_matrix_adj"
   ]
  },
  {
   "cell_type": "markdown",
   "metadata": {
    "id": "5aAz8AOEoHeH"
   },
   "source": [
    "Using the training set, build a C5.0 model (Model 3) to predict a customer's Response using Days since Purchase, # of Purchase Visits, and Sales per Visit, using the data‐driven cost matrix."
   ]
  },
  {
   "cell_type": "code",
   "execution_count": 37,
   "metadata": {
    "id": "d6kvWPitlUiv"
   },
   "outputs": [],
   "source": [
    "cost_matrix = {0:cost_matrix_adj.iloc[0,1], 1:cost_matrix_adj.iloc[1,0]}  \n",
    "  \n",
    "# train C5.0 model  \n",
    "c50_03 = DecisionTreeClassifier(criterion=\"entropy\", min_samples_split=75, max_leaf_nodes=5 , class_weight=cost_matrix).fit(X,y)  "
   ]
  },
  {
   "cell_type": "markdown",
   "metadata": {
    "id": "pyR3zIK3oRAl"
   },
   "source": [
    "Populate the Model Evaluation Table with the evaluation measures for Model 3, using the data‐driven cost matrix. "
   ]
  },
  {
   "cell_type": "code",
   "execution_count": 38,
   "metadata": {
    "colab": {
     "base_uri": "https://localhost:8080/",
     "height": 143
    },
    "id": "LfseMwe4s_c9",
    "outputId": "60247d29-de0d-4403-fcbe-ed827b5ceb90"
   },
   "outputs": [
    {
     "data": {
      "text/html": [
       "<div>\n",
       "<style scoped>\n",
       "    .dataframe tbody tr th:only-of-type {\n",
       "        vertical-align: middle;\n",
       "    }\n",
       "\n",
       "    .dataframe tbody tr th {\n",
       "        vertical-align: top;\n",
       "    }\n",
       "\n",
       "    .dataframe thead th {\n",
       "        text-align: right;\n",
       "    }\n",
       "</style>\n",
       "<table border=\"1\" class=\"dataframe\">\n",
       "  <thead>\n",
       "    <tr style=\"text-align: right;\">\n",
       "      <th>col_0</th>\n",
       "      <th>0</th>\n",
       "      <th>1</th>\n",
       "    </tr>\n",
       "    <tr>\n",
       "      <th>Response</th>\n",
       "      <th></th>\n",
       "      <th></th>\n",
       "    </tr>\n",
       "  </thead>\n",
       "  <tbody>\n",
       "    <tr>\n",
       "      <th>0</th>\n",
       "      <td>4897</td>\n",
       "      <td>4717</td>\n",
       "    </tr>\n",
       "    <tr>\n",
       "      <th>1</th>\n",
       "      <td>266</td>\n",
       "      <td>1674</td>\n",
       "    </tr>\n",
       "  </tbody>\n",
       "</table>\n",
       "</div>"
      ],
      "text/plain": [
       "col_0        0     1\n",
       "Response            \n",
       "0         4897  4717\n",
       "1          266  1674"
      ]
     },
     "execution_count": 38,
     "metadata": {},
     "output_type": "execute_result"
    }
   ],
   "source": [
    "# use model to predict on test data  \n",
    "c50_03_predict = c50_03.predict(clothing_test[['Days since Purchase', 'Number of Purchase Visits', 'Sales per Visit']])  \n",
    "  \n",
    "# construct contingency table  \n",
    "con_table_3= pd.crosstab(clothing_test['Response'],c50_03_predict)\n",
    "con_table_3"
   ]
  },
  {
   "cell_type": "code",
   "execution_count": 47,
   "metadata": {
    "colab": {
     "base_uri": "https://localhost:8080/",
     "height": 363
    },
    "id": "nuH7lNO0ZWAZ",
    "outputId": "1961fe22-36c4-4f16-9bbb-1e3aea0ed4da"
   },
   "outputs": [
    {
     "data": {
      "text/html": [
       "<div>\n",
       "<style scoped>\n",
       "    .dataframe tbody tr th:only-of-type {\n",
       "        vertical-align: middle;\n",
       "    }\n",
       "\n",
       "    .dataframe tbody tr th {\n",
       "        vertical-align: top;\n",
       "    }\n",
       "\n",
       "    .dataframe thead th {\n",
       "        text-align: right;\n",
       "    }\n",
       "</style>\n",
       "<table border=\"1\" class=\"dataframe\">\n",
       "  <thead>\n",
       "    <tr style=\"text-align: right;\">\n",
       "      <th></th>\n",
       "      <th>Model_3</th>\n",
       "    </tr>\n",
       "  </thead>\n",
       "  <tbody>\n",
       "    <tr>\n",
       "      <th>Accuracy</th>\n",
       "      <td>0.5687</td>\n",
       "    </tr>\n",
       "    <tr>\n",
       "      <th>Error Rate</th>\n",
       "      <td>0.4313</td>\n",
       "    </tr>\n",
       "    <tr>\n",
       "      <th>Sensitivity</th>\n",
       "      <td>0.8629</td>\n",
       "    </tr>\n",
       "    <tr>\n",
       "      <th>Specificity</th>\n",
       "      <td>0.5094</td>\n",
       "    </tr>\n",
       "    <tr>\n",
       "      <th>Precision</th>\n",
       "      <td>0.2619</td>\n",
       "    </tr>\n",
       "    <tr>\n",
       "      <th>F1</th>\n",
       "      <td>0.4019</td>\n",
       "    </tr>\n",
       "    <tr>\n",
       "      <th>F2</th>\n",
       "      <td>0.5915</td>\n",
       "    </tr>\n",
       "    <tr>\n",
       "      <th>F3</th>\n",
       "      <td>0.3043</td>\n",
       "    </tr>\n",
       "    <tr>\n",
       "      <th>overall_cost</th>\n",
       "      <td>-142962.9200</td>\n",
       "    </tr>\n",
       "    <tr>\n",
       "      <th>profit_per_customer</th>\n",
       "      <td>12.3735</td>\n",
       "    </tr>\n",
       "  </tbody>\n",
       "</table>\n",
       "</div>"
      ],
      "text/plain": [
       "                         Model_3\n",
       "Accuracy                  0.5687\n",
       "Error Rate                0.4313\n",
       "Sensitivity               0.8629\n",
       "Specificity               0.5094\n",
       "Precision                 0.2619\n",
       "F1                        0.4019\n",
       "F2                        0.5915\n",
       "F3                        0.3043\n",
       "overall_cost        -142962.9200\n",
       "profit_per_customer      12.3735"
      ]
     },
     "execution_count": 47,
     "metadata": {},
     "output_type": "execute_result"
    }
   ],
   "source": [
    "def model_eval_cost(matrix,model_name,fn_cost,tn_cost,fp_cost,tp_cost):  \n",
    "#from a dataframe and iloc is Purely integer-location based indexing for selection by position.\n",
    "    tn = matrix.iloc[0,0]  \n",
    "    tp = matrix.iloc[1,1]  \n",
    "    fn = matrix.iloc[1,0]  \n",
    "    fp = matrix.iloc[0,1]  \n",
    "#some formulas\n",
    "    tap = fn+tp  \n",
    "    tan = tn+fp  \n",
    "    tpn = tn+fn  \n",
    "    tpp = fp+tp  \n",
    "    precision = tp/tpp  \n",
    "    recall = tp/tap  \n",
    "    total = tn+tp+fn+fp  \n",
    "    data = [  \n",
    "        round((tp+tn)/total,4),  #accuracy\n",
    "        round(1-((tp+tn)/total),4),  #error rate\n",
    "        round(tp/tap,4),  #Snesitivity\n",
    "        round(tn/tan,4),  #Specificity / Recall\n",
    "        round(precision,4),  #Precision\n",
    "        round(2 * (precision * recall) / (precision + recall),4),\t#F1\n",
    "        round(5 * (precision * recall) / ((4 * precision) + recall),4),\t#F2\n",
    "        round(1.25 * (precision * recall) / ((.25 * precision) + recall),4),\t#F3  \n",
    "        round((fp*fp_cost)+(tp*tp_cost),2),  \n",
    "        round(-1*((fp*fp_cost)+(tp*tp_cost))/total,4)   \n",
    "        ]  \n",
    "    return(  \n",
    "        pd.DataFrame(data, columns=[model_name],   \n",
    "        index=['Accuracy','Error Rate','Sensitivity','Specificity','Precision','F1','F2','F3','overall_cost','profit_per_customer'])  \n",
    "        )  \n",
    "\n",
    "Model_3 =  model_eval_cost(con_table_3, model_name = 'Model_3', fn_cost=0, tn_cost=0, fp_cost=10 , tp_cost=-113.58 )  \n",
    "Model_3  \n"
   ]
  },
  {
   "cell_type": "code",
   "execution_count": null,
   "metadata": {
    "deletable": false,
    "editable": false
   },
   "outputs": [],
   "source": [
    "import datetime\n",
    "import socket \n",
    "def get_Host_name_IP():\n",
    "    try: \n",
    "        host_name = socket.gethostname() \n",
    "        host_ip = socket.gethostbyname(host_name) \n",
    "        print(\"Hostname:\",host_name) \n",
    "        print(\"IP Address:\",host_ip) \n",
    "    except: \n",
    "        print(\"No visible IP Address\") \n",
    "get_Host_name_IP()\n",
    "now = datetime.datetime.now()\n",
    "print (\"Time Stamp:\", now.strftime(\"%Y-%m-%d %H:%M:%S\"))"
   ]
  },
  {
   "cell_type": "code",
   "execution_count": null,
   "metadata": {},
   "outputs": [],
   "source": []
  }
 ],
 "metadata": {
  "colab": {
   "name": "DS Chapter7 (Clothing Dataset).ipynb",
   "provenance": []
  },
  "kernelspec": {
   "display_name": "Python 3",
   "language": "python",
   "name": "python3"
  },
  "language_info": {
   "codemirror_mode": {
    "name": "ipython",
    "version": 3
   },
   "file_extension": ".py",
   "mimetype": "text/x-python",
   "name": "python",
   "nbconvert_exporter": "python",
   "pygments_lexer": "ipython3",
   "version": "3.11.4"
  }
 },
 "nbformat": 4,
 "nbformat_minor": 1
}
