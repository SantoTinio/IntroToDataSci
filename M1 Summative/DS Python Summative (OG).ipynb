{
 "cells": [
  {
   "cell_type": "markdown",
   "metadata": {},
   "source": [
    "# CS170 - Introduction to Data Science (Jupyter Notebook)\n",
    "\n",
    "## Instructions\n",
    "Answer each line item by replacing the blanks with the necessary operator or a value. \n",
    "Make sure the kernel is set to Python 3**\n",
    "Once done, right click the actual notebook page and print as PDF.\n",
    "Last part of the notebook is the code for timestamp from your computer - Run it!.  "
   ]
  },
  {
   "cell_type": "code",
   "execution_count": null,
   "metadata": {},
   "outputs": [],
   "source": [
    "#Import the necesssary library such as pandas and matplotlib\n",
    "import _____ as _____ \n",
    "import _____ .pyplot as _____ "
   ]
  },
  {
   "cell_type": "code",
   "execution_count": null,
   "metadata": {},
   "outputs": [],
   "source": [
    "#read the dataset\n",
    "pokemon = pd._____ ('_____ ') "
   ]
  },
  {
   "cell_type": "code",
   "execution_count": null,
   "metadata": {},
   "outputs": [],
   "source": [
    "_____ .shape\n",
    "#get the shape of the dataset"
   ]
  },
  {
   "cell_type": "code",
   "execution_count": null,
   "metadata": {
    "scrolled": true
   },
   "outputs": [],
   "source": [
    "pokemon._____ \n",
    "#complete the syntax to disply the first 10 rows of the record."
   ]
  },
  {
   "cell_type": "code",
   "execution_count": null,
   "metadata": {},
   "outputs": [],
   "source": [
    "# complete the syntex by creating a crosstab of the record based on stamina and generation\n",
    "crosstab_01 = _____ .crosstab(pokemon['_____ '], pokemon['_____ '])"
   ]
  },
  {
   "cell_type": "code",
   "execution_count": null,
   "metadata": {},
   "outputs": [],
   "source": [
    "# plot a bar graph (frequency), make sure it is stacked\n",
    "_____ .plot(kind='_____ '', stacked = _____ , title = 'Pokemon stamina by generation') "
   ]
  },
  {
   "cell_type": "code",
   "execution_count": null,
   "metadata": {},
   "outputs": [],
   "source": [
    "# create crosstab by using div and sum command.  \n",
    "crosstab_norm = _____ .div(crosstab_01._____ (1), _____ )  "
   ]
  },
  {
   "cell_type": "code",
   "execution_count": null,
   "metadata": {},
   "outputs": [],
   "source": [
    "# plot a normalized bar type crosstab data  with proportions\n",
    "crosstab_norm._____ (kind=_____ ', _____ , title = 'Pokemon stamina by generation')  "
   ]
  },
  {
   "cell_type": "code",
   "execution_count": null,
   "metadata": {},
   "outputs": [],
   "source": [
    "# create a contingency table showing the generation and legendary\n",
    "crosstab_02 = pd.crosstab(pokemon[_____ ], pokemon['_____ ])\n",
    "_____ .head(7)"
   ]
  },
  {
   "cell_type": "code",
   "execution_count": null,
   "metadata": {},
   "outputs": [],
   "source": [
    "# create a contingency table showing the generation and legendary by its percentage\n",
    "_____ (crosstab_02.div(_____ .sum(0), axis = 1)*_____ , _____ )"
   ]
  },
  {
   "cell_type": "code",
   "execution_count": null,
   "metadata": {},
   "outputs": [],
   "source": [
    "# import required package second task \n",
    "import numpy as np  \n",
    "import matplotlib.pyplot as plt  "
   ]
  },
  {
   "cell_type": "code",
   "execution_count": null,
   "metadata": {},
   "outputs": [],
   "source": [
    "# then using the percentage data, create a subset for each element of the overlay\n",
    "# is legendary overlay generation\n",
    "pok_y = pokemon[pokemon._____  == 0]['_____ ']  \n",
    "pok_n = pokemon[pokemon._____  == 1]['_____ '] "
   ]
  },
  {
   "cell_type": "code",
   "execution_count": null,
   "metadata": {
    "scrolled": false
   },
   "outputs": [],
   "source": [
    "# now create a histogram based on the two subsets, 7 bins  \n",
    "\n",
    "plt.hist([_____ , _____ ], bins = _____ , stacked = True)  \n",
    "plt.legend(['Not Legendary = 0', 'Legendary = 1'])  \n",
    "plt.title('Histogram of Legendary Pokemon Overlay')  \n",
    "plt.xlabel('Generation'); plt.ylabel('Frequency'); _____ ._____ () "
   ]
  },
  {
   "cell_type": "code",
   "execution_count": null,
   "metadata": {},
   "outputs": [],
   "source": [
    "# save the output from the non-normalized plot into variables \n",
    "(n, bins, patches) = plt.hist([_____ , _____ ], bins = _____ , stacked = True)  "
   ]
  },
  {
   "cell_type": "code",
   "execution_count": null,
   "metadata": {},
   "outputs": [],
   "source": [
    "# create a table and combine the height of the variables into single array  \n",
    "n_table = np.column_stack((n[0], n[1]))  "
   ]
  },
  {
   "cell_type": "code",
   "execution_count": null,
   "metadata": {},
   "outputs": [],
   "source": [
    "# divide each row by the sum of that row \n",
    "# no revisions on this\n",
    "n_norm = _____  / _____ .sum(axis=1)[:, None]"
   ]
  },
  {
   "cell_type": "code",
   "execution_count": null,
   "metadata": {},
   "outputs": [],
   "source": [
    "# determin upper and lower bounds of each bin (use the number of bins) \n",
    "ourbins = np.column_stack((bins[_____ ], bins[_____ ]))  "
   ]
  },
  {
   "cell_type": "code",
   "execution_count": null,
   "metadata": {},
   "outputs": [],
   "source": [
    "# construct normalized plot plt.bar p1 and p2 \n",
    "p1 = plt._____ (x = ourbins[:,0], height = n_norm[:,0], width = ourbins[:, _____ ] - ourbins[:, 0])  \n",
    "_____  = plt._____ (x = ourbins[:,0], height = n_norm[:,_____ ], width = ourbins[:, _____ ] - ourbins[:, 0], bottom = n_norm[:,0])  \n",
    "\n",
    "#plot the table\n",
    "plt.legend(['Legendary = Yes', 'Legendary = No'])  \n",
    "plt.title('Normalized Histogram of Pokemon with Response Overlay')  \n",
    "plt.xlabel('Generation'); plt.ylabel('Proportion'); plt._____ ()  "
   ]
  },
  {
   "cell_type": "code",
   "execution_count": null,
   "metadata": {},
   "outputs": [],
   "source": [
    "# use the cut function in Pandas to create the bins based on pokemon attack \n",
    "# should be: Under 50, 50 to 75, 75 to 100, and over 100 \n",
    "\n",
    "pokemon['VAR'] = pd._____ (x = pokemon['sp_attack'], bins = [_____ , _____ , _____ , _____ , _____ ],  \n",
    "labels=[\"Under 50\", \"50 to 75\", \"75 to 100\", \"Over 100\"], right = True)  "
   ]
  },
  {
   "cell_type": "code",
   "execution_count": null,
   "metadata": {},
   "outputs": [],
   "source": [
    "# create contingency table based on its type (legendary and non-legendary) and if published on not\n",
    "crosstab_02 = pd.crosstab(pokemon['VAR'], pokemon['_____ '])  \n",
    "crosstab_02.head(4)\n"
   ]
  },
  {
   "cell_type": "code",
   "execution_count": null,
   "metadata": {},
   "outputs": [],
   "source": [
    "# craete a contingency table based on percentage\n",
    "round(crosstab_02._____ (crosstab_02.sum(0), axis = 1)*100, 1)"
   ]
  },
  {
   "cell_type": "code",
   "execution_count": null,
   "metadata": {
    "scrolled": true
   },
   "outputs": [],
   "source": [
    "# then plot a binned bar graph of the crosstab data based on VAR (frequency)\n",
    "crosstab_02.plot(kind=_____ , stacked = _____ , title = 'Bar Graph of VAR (Binned / Frequency) with Response Overlay')"
   ]
  },
  {
   "cell_type": "code",
   "execution_count": null,
   "metadata": {},
   "outputs": [],
   "source": [
    "crosstab_02 = pd.crosstab(pokemon['VAR'], pokemon['p_published'])\n",
    "crosstab_02_norm = crosstab_02._____ (crosstab_02.sum(1), axis = 0)"
   ]
  },
  {
   "cell_type": "code",
   "execution_count": null,
   "metadata": {},
   "outputs": [],
   "source": [
    "# then plot a binned bar graph of the crosstab data based on VAR (normalized) \n",
    "crosstab_02_norm._____ (kind='bar', stacked = True, title = 'Bar Graph of VAR (Binned / Proportion) with Response Overlay')"
   ]
  },
  {
   "cell_type": "code",
   "execution_count": null,
   "metadata": {
    "deletable": false,
    "editable": false
   },
   "outputs": [],
   "source": [
    "import datetime\n",
    "import socket \n",
    "def get_Host_name_IP(): \n",
    "    try: \n",
    "        host_name = socket.gethostname() \n",
    "        host_ip = socket.gethostbyname(host_name) \n",
    "        print(\"Hostname-7:\",host_name) \n",
    "        print(\"IP Address:\",host_ip) \n",
    "    except: \n",
    "        print(\"No visible IP Address\") \n",
    "get_Host_name_IP()\n",
    "now = datetime.datetime.now()\n",
    "print (\"Time Stamp:\", now.strftime(\"%Y-%m-%d %H:%M:%S\"))"
   ]
  },
  {
   "cell_type": "code",
   "execution_count": null,
   "metadata": {},
   "outputs": [],
   "source": []
  },
  {
   "cell_type": "code",
   "execution_count": null,
   "metadata": {},
   "outputs": [],
   "source": []
  }
 ],
 "metadata": {
  "kernelspec": {
   "display_name": "Python 3",
   "language": "python",
   "name": "python3"
  },
  "language_info": {
   "codemirror_mode": {
    "name": "ipython",
    "version": 3
   },
   "file_extension": ".py",
   "mimetype": "text/x-python",
   "name": "python",
   "nbconvert_exporter": "python",
   "pygments_lexer": "ipython3",
   "version": "3.11.4"
  }
 },
 "nbformat": 4,
 "nbformat_minor": 4
}
