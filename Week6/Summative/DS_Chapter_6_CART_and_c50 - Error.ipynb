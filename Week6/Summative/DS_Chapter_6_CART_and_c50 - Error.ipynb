{
 "cells": [
  {
   "cell_type": "markdown",
   "metadata": {
    "id": "Kp4wPlUUHCkS"
   },
   "source": [
    "Instructions: By continuing the previous model based on the micro video lecture posted(Refer to DS Chapter 6 CARD and C50 Code review). Construct a C5.0 model using the test data set that utilizes the same target variable, predictor variables, and minimum cases criterion. Visualize the decision tree."
   ]
  },
  {
   "cell_type": "code",
   "execution_count": 5,
   "metadata": {},
   "outputs": [
    {
     "data": {
      "text/html": [
       "<div>\n",
       "<style scoped>\n",
       "    .dataframe tbody tr th:only-of-type {\n",
       "        vertical-align: middle;\n",
       "    }\n",
       "\n",
       "    .dataframe tbody tr th {\n",
       "        vertical-align: top;\n",
       "    }\n",
       "\n",
       "    .dataframe thead th {\n",
       "        text-align: right;\n",
       "    }\n",
       "</style>\n",
       "<table border=\"1\" class=\"dataframe\">\n",
       "  <thead>\n",
       "    <tr style=\"text-align: right;\">\n",
       "      <th></th>\n",
       "      <th>Marital status</th>\n",
       "      <th>Income</th>\n",
       "      <th>Cap_Gains_Losses</th>\n",
       "    </tr>\n",
       "  </thead>\n",
       "  <tbody>\n",
       "    <tr>\n",
       "      <th>0</th>\n",
       "      <td>Never-married</td>\n",
       "      <td>&lt;=50K</td>\n",
       "      <td>0.02174</td>\n",
       "    </tr>\n",
       "    <tr>\n",
       "      <th>1</th>\n",
       "      <td>Divorced</td>\n",
       "      <td>&lt;=50K</td>\n",
       "      <td>0.00000</td>\n",
       "    </tr>\n",
       "    <tr>\n",
       "      <th>2</th>\n",
       "      <td>Married</td>\n",
       "      <td>&lt;=50K</td>\n",
       "      <td>0.00000</td>\n",
       "    </tr>\n",
       "    <tr>\n",
       "      <th>3</th>\n",
       "      <td>Married</td>\n",
       "      <td>&lt;=50K</td>\n",
       "      <td>0.00000</td>\n",
       "    </tr>\n",
       "    <tr>\n",
       "      <th>4</th>\n",
       "      <td>Married</td>\n",
       "      <td>&lt;=50K</td>\n",
       "      <td>0.00000</td>\n",
       "    </tr>\n",
       "    <tr>\n",
       "      <th>...</th>\n",
       "      <td>...</td>\n",
       "      <td>...</td>\n",
       "      <td>...</td>\n",
       "    </tr>\n",
       "    <tr>\n",
       "      <th>18756</th>\n",
       "      <td>Divorced</td>\n",
       "      <td>&lt;=50K</td>\n",
       "      <td>0.00000</td>\n",
       "    </tr>\n",
       "    <tr>\n",
       "      <th>18757</th>\n",
       "      <td>Married</td>\n",
       "      <td>&lt;=50K</td>\n",
       "      <td>0.00000</td>\n",
       "    </tr>\n",
       "    <tr>\n",
       "      <th>18758</th>\n",
       "      <td>Married</td>\n",
       "      <td>&lt;=50K</td>\n",
       "      <td>0.00000</td>\n",
       "    </tr>\n",
       "    <tr>\n",
       "      <th>18759</th>\n",
       "      <td>Divorced</td>\n",
       "      <td>&lt;=50K</td>\n",
       "      <td>0.00000</td>\n",
       "    </tr>\n",
       "    <tr>\n",
       "      <th>18760</th>\n",
       "      <td>Married</td>\n",
       "      <td>&lt;=50K</td>\n",
       "      <td>0.00000</td>\n",
       "    </tr>\n",
       "  </tbody>\n",
       "</table>\n",
       "<p>18761 rows × 3 columns</p>\n",
       "</div>"
      ],
      "text/plain": [
       "      Marital status Income  Cap_Gains_Losses\n",
       "0      Never-married  <=50K           0.02174\n",
       "1           Divorced  <=50K           0.00000\n",
       "2            Married  <=50K           0.00000\n",
       "3            Married  <=50K           0.00000\n",
       "4            Married  <=50K           0.00000\n",
       "...              ...    ...               ...\n",
       "18756       Divorced  <=50K           0.00000\n",
       "18757        Married  <=50K           0.00000\n",
       "18758        Married  <=50K           0.00000\n",
       "18759       Divorced  <=50K           0.00000\n",
       "18760        Married  <=50K           0.00000\n",
       "\n",
       "[18761 rows x 3 columns]"
      ]
     },
     "execution_count": 5,
     "metadata": {},
     "output_type": "execute_result"
    }
   ],
   "source": [
    "import os\n",
    "import graphviz\n",
    "import pandas as pd\n",
    "import numpy as np\n",
    "import statsmodels.tools.tools as stattools\n",
    "from sklearn.tree import DecisionTreeClassifier, export_graphviz\n",
    "\n",
    "adult_test = pd.read_csv(\"adult_ch6_test\")\n",
    "adult_tr = pd.read_csv(\"adult_ch6_training\")"
   ]
  },
  {
   "cell_type": "code",
   "execution_count": null,
   "metadata": {
    "id": "uZzNrMgoG79U"
   },
   "outputs": [],
   "source": [
    "# save target variable  \n",
    "y = adult_test[['Income']]  "
   ]
  },
  {
   "cell_type": "code",
   "execution_count": null,
   "metadata": {
    "id": "X8gmgGraG766"
   },
   "outputs": [],
   "source": [
    "# convert categorical variable to dummy variables  \n",
    "mar_np = np.array(adult_test[_____])  \n",
    "(mar_cat, mar_cat_dict) = _____.categorical(mar_np, drop=_____, dictnames=_____)  "
   ]
  },
  {
   "cell_type": "code",
   "execution_count": null,
   "metadata": {
    "id": "-BKt3lJ6G74m"
   },
   "outputs": [],
   "source": [
    "# combine the dummy variables back with the   \n",
    "mar_cat_pd = pd.DataFrame(mar_cat)  \n",
    "X = pd.concat((adult_test[['Cap_Gains_Losses']], mar_cat_pd), axis = 1)   \n"
   ]
  },
  {
   "cell_type": "code",
   "execution_count": null,
   "metadata": {
    "id": "slRJZkgLG72P"
   },
   "outputs": [],
   "source": [
    "# specify names of combined matrix and the target variable  \n",
    "X_names = [\"Cap_Gains_Losses\", \"Divorced\", \"Married\", \"Never-married\", \"Separated\", \"Widowed\"]  \n",
    "y_names = [\"<=50K\", \">50K\"]  "
   ]
  },
  {
   "cell_type": "code",
   "execution_count": null,
   "metadata": {
    "id": "mFYspYDwHPSk"
   },
   "outputs": [],
   "source": [
    "# train C5.0 model  \n",
    "c50_01 = _____(criterion=\"_____\", min_samples_split=75, max_leaf_nodes=5).fit(_____,_____)"
   ]
  },
  {
   "cell_type": "code",
   "execution_count": null,
   "metadata": {
    "id": "tytZ_qWkHPQJ"
   },
   "outputs": [],
   "source": [
    "# obtain tree structure with labeles   \n",
    "data = export_graphviz(_____, out_file=None, feature_names=_____, class_names=_____)  "
   ]
  },
  {
   "cell_type": "code",
   "execution_count": null,
   "metadata": {
    "id": "buBZAiQBHPNj"
   },
   "outputs": [],
   "source": [
    "# display the plot  \n",
    "graphviz.Source(data)"
   ]
  },
  {
   "cell_type": "markdown",
   "metadata": {
    "id": "0nTTuuY5HXzc"
   },
   "source": [
    "Use random forests on the training data set to predict income using marital status and capital gains and losses. "
   ]
  },
  {
   "cell_type": "code",
   "execution_count": null,
   "metadata": {
    "id": "17fKsjPRG7z2"
   },
   "outputs": [],
   "source": [
    "# import required packages  \n",
    "from sklearn.ensemble import RandomForestClassifier  \n",
    "import numpy as np  "
   ]
  },
  {
   "cell_type": "code",
   "execution_count": null,
   "metadata": {
    "id": "e8dJEoNsG7xS"
   },
   "outputs": [],
   "source": [
    "# save target variable  \n",
    "y = adult_tr[_____]   "
   ]
  },
  {
   "cell_type": "code",
   "execution_count": null,
   "metadata": {
    "id": "rCIMcx4UG7uX"
   },
   "outputs": [],
   "source": [
    "# convert categorical variable to dummy variables  \n",
    "mar_np = np.array(a_____['_____'])  \n",
    "(mar_cat, mar_cat_dict) = stattools._____(mar_np, drop=_____, dictnames=_____)  "
   ]
  },
  {
   "cell_type": "code",
   "execution_count": null,
   "metadata": {
    "id": "75HzrKHzHfrd"
   },
   "outputs": [],
   "source": [
    "# combine the dummy variables back with the   \n",
    "mar_cat_pd = pd.DataFrame(_____)  \n",
    "X = pd.concat((adult_tr[['Cap_Gains_Losses']], _____), axis = 1)"
   ]
  },
  {
   "cell_type": "code",
   "execution_count": null,
   "metadata": {
    "id": "ivjCYeNVHfo_"
   },
   "outputs": [],
   "source": [
    "# format for random forest model  \n",
    "rfy = np.ravel(y)  "
   ]
  },
  {
   "cell_type": "code",
   "execution_count": null,
   "metadata": {
    "id": "c5XajObQHfmi"
   },
   "outputs": [],
   "source": [
    "# train random forest model  \n",
    "rf01 = _____(n_estimators = 100, criterion=\"_____\").fit(X,rfy)"
   ]
  },
  {
   "cell_type": "code",
   "execution_count": null,
   "metadata": {
    "id": "rnQ-bk5-Hfjr"
   },
   "outputs": [],
   "source": [
    "# return predictions  \n",
    "rf_train = rf01.predict(X)  "
   ]
  },
  {
   "cell_type": "markdown",
   "metadata": {
    "id": "0iNGju6YH3UW"
   },
   "source": [
    "Use random forests using the test data set that utilizes the same target and predictor variables. Does the test data result match the training data result? "
   ]
  },
  {
   "cell_type": "code",
   "execution_count": null,
   "metadata": {
    "id": "UX4lz1DFH6BZ"
   },
   "outputs": [],
   "source": [
    "# save target variable  \n",
    "y = adult_test[_____]  "
   ]
  },
  {
   "cell_type": "code",
   "execution_count": null,
   "metadata": {
    "id": "3Iau_37MH5_W"
   },
   "outputs": [],
   "source": [
    "# convert categorical variable to dummy variables  \n",
    "mar_np = np.array(adult_test['Marital status'])  \n",
    "(_____, _____) = _____._____(mar_np, drop=True, dictnames=True)  "
   ]
  },
  {
   "cell_type": "code",
   "execution_count": null,
   "metadata": {
    "id": "Rfcs-9Q-H581"
   },
   "outputs": [],
   "source": [
    "# combine the dummy variables back with the   \n",
    "mar_cat_pd = pd.DataFrame(mar_cat)  \n",
    "X = pd.concat((adult_test[['_____']], mar_cat_pd), axis = _____)  "
   ]
  },
  {
   "cell_type": "code",
   "execution_count": null,
   "metadata": {
    "id": "iXhxXeUIH56M"
   },
   "outputs": [],
   "source": [
    "# format for random forest model  \n",
    "rfy = np.ravel(_____)  "
   ]
  },
  {
   "cell_type": "code",
   "execution_count": null,
   "metadata": {
    "id": "xpWs244dH54B"
   },
   "outputs": [],
   "source": [
    "# train random forest model  \n",
    "rf01 = _____(n_estimators = 100, criterion=_____).fit(X,rfy) \t  "
   ]
  },
  {
   "cell_type": "code",
   "execution_count": null,
   "metadata": {
    "id": "4zdsTr1xHfg4"
   },
   "outputs": [],
   "source": [
    "# return predictions  \n",
    "rf_test = rf01.p_____(X)  "
   ]
  },
  {
   "cell_type": "code",
   "execution_count": null,
   "metadata": {
    "id": "oESLzH59G7rS"
   },
   "outputs": [],
   "source": [
    "#this should have an output\n",
    "rf_train = pd.DataFrame(_____)  \n",
    "rf_train[0].value_counts() / len(_____)  "
   ]
  },
  {
   "cell_type": "code",
   "execution_count": null,
   "metadata": {
    "id": "q71F8QLkIJJN"
   },
   "outputs": [],
   "source": [
    "#this should have an output\n",
    "rf_test = pd.DataFrame(_____)  \n",
    "rf_test[0].value_counts() / len(_____)  "
   ]
  },
  {
   "cell_type": "markdown",
   "metadata": {
    "id": "McPp0uveIOBx"
   },
   "source": [
    "Based on the output, both models should classify the data as 93% for <=50K and 7% for >=50K"
   ]
  }
 ],
 "metadata": {
  "colab": {
   "collapsed_sections": [],
   "name": "DS Chapter 6 - CART and c50.ipynb",
   "provenance": []
  },
  "kernelspec": {
   "display_name": "Python 3",
   "language": "python",
   "name": "python3"
  },
  "language_info": {
   "codemirror_mode": {
    "name": "ipython",
    "version": 3
   },
   "file_extension": ".py",
   "mimetype": "text/x-python",
   "name": "python",
   "nbconvert_exporter": "python",
   "pygments_lexer": "ipython3",
   "version": "3.11.4"
  }
 },
 "nbformat": 4,
 "nbformat_minor": 1
}
